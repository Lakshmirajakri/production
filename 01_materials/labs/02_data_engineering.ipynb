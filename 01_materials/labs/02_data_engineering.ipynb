{
 "cells": [
  {
   "cell_type": "code",
   "execution_count": 28,
   "metadata": {},
   "outputs": [
    {
     "name": "stdout",
     "output_type": "stream",
     "text": [
      "The dotenv extension is already loaded. To reload it, use:\n",
      "  %reload_ext dotenv\n"
     ]
    }
   ],
   "source": [
    "%load_ext dotenv\n",
    "%dotenv "
   ]
  },
  {
   "cell_type": "markdown",
   "metadata": {},
   "source": [
    "# What are we doing?\n",
    "\n",
    "## Objectives \n",
    "\n",
    "\n",
    "* Build a data pipeline that downloads price data from the internet, stores it locally, transforms it into return data, and stores the feature set.\n",
    "    - Getting the data.\n",
    "    - Schemas and index in dask.\n",
    "\n",
    "* Explore the parquet format.\n",
    "    - Reading and writing parquet files.\n",
    "    - Read datasets that are stored in distributed files.\n",
    "    - Discuss dask vs pandas as a small example of big vs small data.\n",
    "    \n",
    "* Discuss the use of environment variables for settings.\n",
    "* Discuss how to use Jupyter notebooks and source code concurrently. \n",
    "* Logging and using a standard logger.\n",
    "\n",
    "## About the Data\n",
    "\n",
    "+ We will download the prices for a list of stocks.\n",
    "+ The source is Yahoo Finance and we will use the API provided by the library yfinance.\n",
    "\n",
    "\n",
    "## Medallion Architecture\n",
    "\n",
    "+ The architecture that we are thinking about is called Medallion by [DataBricks](https://www.databricks.com/glossary/medallion-architecture). It is an ELT type of thinking, although our data is well-structured.\n",
    "\n",
    "![Medallion Architecture (DataBicks)](./images/02_medallion_architecture.png)\n",
    "\n",
    "+ In our case, we would like to optimize the number of times that we download data from the internet. \n",
    "+ Ultimately, we will build a pipeline manager class that will help us control the process of obtaining and transforming our data.\n",
    "\n",
    "![](./images/02_target_pipeline_manager.png)"
   ]
  },
  {
   "cell_type": "markdown",
   "metadata": {},
   "source": [
    "# Download Data\n",
    "\n",
    "Download the [Stock Market Dataset from Kaggle](https://www.kaggle.com/datasets/jacksoncrow/stock-market-dataset). Note that you may be required to register for a free account.\n",
    "\n",
    "Extract all files into the directory: `./05_src/data/prices_csv/`\n",
    "\n",
    "Your folder structure should include the following paths:\n",
    "\n",
    "+ `05_src/data/prices_csv/etfs`\n",
    "+ `05_src/data/prices_csv/stocks`\n"
   ]
  },
  {
   "cell_type": "code",
   "execution_count": 29,
   "metadata": {},
   "outputs": [],
   "source": [
    "import pandas as pd\n",
    "import os\n",
    "import sys\n",
    "from glob import glob\n",
    "\n",
    "sys.path.append(os.getenv('SRC_DIR'))\n",
    "\n",
    "from utils.logger import get_logger\n",
    "_logs = get_logger(__name__)"
   ]
  },
  {
   "cell_type": "markdown",
   "metadata": {},
   "source": [
    "A few things to notice in the code chunk above:\n",
    "\n",
    "+ Libraries are ordered from high-level to low-level libraries from the package manager (pip in this case, but could be conda, poetry, etc.)\n",
    "+ The command `sys.path.append(\"../05_src/)` will add the `../05_src/` directory to the path in the Notebook's kernel. This way, we can use our modules as part of the notebook.\n",
    "+ Local modules are imported at the end. \n",
    "+ The function `get_logger()` is called with `__name__` as recommended by the documentation."
   ]
  },
  {
   "cell_type": "markdown",
   "metadata": {},
   "source": [
    "Now, to load the historical price data for stocks and ETFs, we could use:"
   ]
  },
  {
   "cell_type": "code",
   "execution_count": 30,
   "metadata": {},
   "outputs": [
    {
     "name": "stderr",
     "output_type": "stream",
     "text": [
      "2025-06-06 23:00:52,407, 4121356139.py, 10, INFO, Reading file: ../../05_src/data/prices_csv/stocks\\TNC.csv\n",
      "2025-06-06 23:00:52,481, 4121356139.py, 10, INFO, Reading file: ../../05_src/data/prices_csv/stocks\\CBB.csv\n",
      "2025-06-06 23:00:52,514, 4121356139.py, 10, INFO, Reading file: ../../05_src/data/prices_csv/stocks\\ALDX.csv\n",
      "2025-06-06 23:00:52,533, 4121356139.py, 10, INFO, Reading file: ../../05_src/data/prices_csv/stocks\\GLADD.csv\n",
      "2025-06-06 23:00:52,546, 4121356139.py, 10, INFO, Reading file: ../../05_src/data/prices_csv/stocks\\FIXX.csv\n",
      "2025-06-06 23:00:52,550, 4121356139.py, 10, INFO, Reading file: ../../05_src/data/prices_csv/stocks\\ETJ.csv\n",
      "2025-06-06 23:00:52,578, 4121356139.py, 10, INFO, Reading file: ../../05_src/data/prices_csv/stocks\\CMCTP.csv\n",
      "2025-06-06 23:00:52,578, 4121356139.py, 10, INFO, Reading file: ../../05_src/data/prices_csv/stocks\\BWG.csv\n",
      "2025-06-06 23:00:52,613, 4121356139.py, 10, INFO, Reading file: ../../05_src/data/prices_csv/stocks\\VIAC.csv\n",
      "2025-06-06 23:00:52,642, 4121356139.py, 10, INFO, Reading file: ../../05_src/data/prices_csv/stocks\\REI.csv\n",
      "2025-06-06 23:00:52,666, 4121356139.py, 10, INFO, Reading file: ../../05_src/data/prices_csv/stocks\\BLPH.csv\n",
      "2025-06-06 23:00:52,666, 4121356139.py, 10, INFO, Reading file: ../../05_src/data/prices_csv/stocks\\SMG.csv\n",
      "2025-06-06 23:00:52,714, 4121356139.py, 10, INFO, Reading file: ../../05_src/data/prices_csv/stocks\\MOH.csv\n",
      "2025-06-06 23:00:52,736, 4121356139.py, 10, INFO, Reading file: ../../05_src/data/prices_csv/stocks\\AMH.csv\n",
      "2025-06-06 23:00:52,745, 4121356139.py, 10, INFO, Reading file: ../../05_src/data/prices_csv/stocks\\AMAL.csv\n",
      "2025-06-06 23:00:52,764, 4121356139.py, 10, INFO, Reading file: ../../05_src/data/prices_csv/stocks\\BPYPN.csv\n",
      "2025-06-06 23:00:52,764, 4121356139.py, 10, INFO, Reading file: ../../05_src/data/prices_csv/stocks\\ERH.csv\n",
      "2025-06-06 23:00:52,793, 4121356139.py, 10, INFO, Reading file: ../../05_src/data/prices_csv/stocks\\FAMI.csv\n",
      "2025-06-06 23:00:52,804, 4121356139.py, 10, INFO, Reading file: ../../05_src/data/prices_csv/stocks\\PFG.csv\n",
      "2025-06-06 23:00:52,828, 4121356139.py, 10, INFO, Reading file: ../../05_src/data/prices_csv/stocks\\SPXC.csv\n",
      "2025-06-06 23:00:52,867, 4121356139.py, 10, INFO, Reading file: ../../05_src/data/prices_csv/stocks\\ALL.csv\n",
      "2025-06-06 23:00:52,928, 4121356139.py, 10, INFO, Reading file: ../../05_src/data/prices_csv/stocks\\RTTR.csv\n",
      "2025-06-06 23:00:52,944, 4121356139.py, 10, INFO, Reading file: ../../05_src/data/prices_csv/stocks\\EARN.csv\n",
      "2025-06-06 23:00:52,983, 4121356139.py, 10, INFO, Reading file: ../../05_src/data/prices_csv/stocks\\ZIXI.csv\n",
      "2025-06-06 23:00:53,030, 4121356139.py, 10, INFO, Reading file: ../../05_src/data/prices_csv/stocks\\TSN.csv\n",
      "2025-06-06 23:00:53,069, 4121356139.py, 10, INFO, Reading file: ../../05_src/data/prices_csv/stocks\\WST.csv\n",
      "2025-06-06 23:00:53,095, 4121356139.py, 10, INFO, Reading file: ../../05_src/data/prices_csv/stocks\\REG.csv\n",
      "2025-06-06 23:00:53,128, 4121356139.py, 10, INFO, Reading file: ../../05_src/data/prices_csv/stocks\\MNK.csv\n",
      "2025-06-06 23:00:53,143, 4121356139.py, 10, INFO, Reading file: ../../05_src/data/prices_csv/stocks\\ESGR.csv\n",
      "2025-06-06 23:00:53,159, 4121356139.py, 10, INFO, Reading file: ../../05_src/data/prices_csv/stocks\\NGD.csv\n",
      "2025-06-06 23:00:53,191, 4121356139.py, 10, INFO, Reading file: ../../05_src/data/prices_csv/stocks\\SLRX.csv\n",
      "2025-06-06 23:00:53,191, 4121356139.py, 10, INFO, Reading file: ../../05_src/data/prices_csv/stocks\\GLW.csv\n",
      "2025-06-06 23:00:53,240, 4121356139.py, 10, INFO, Reading file: ../../05_src/data/prices_csv/stocks\\ACN.csv\n",
      "2025-06-06 23:00:53,257, 4121356139.py, 10, INFO, Reading file: ../../05_src/data/prices_csv/stocks\\CSSE.csv\n",
      "2025-06-06 23:00:53,274, 4121356139.py, 10, INFO, Reading file: ../../05_src/data/prices_csv/stocks\\WORK.csv\n",
      "2025-06-06 23:00:53,293, 4121356139.py, 10, INFO, Reading file: ../../05_src/data/prices_csv/stocks\\MOS.csv\n",
      "2025-06-06 23:00:53,328, 4121356139.py, 10, INFO, Reading file: ../../05_src/data/prices_csv/stocks\\IPWR.csv\n",
      "2025-06-06 23:00:53,336, 4121356139.py, 10, INFO, Reading file: ../../05_src/data/prices_csv/stocks\\GLUU.csv\n",
      "2025-06-06 23:00:53,352, 4121356139.py, 10, INFO, Reading file: ../../05_src/data/prices_csv/stocks\\CRMT.csv\n",
      "2025-06-06 23:00:53,407, 4121356139.py, 10, INFO, Reading file: ../../05_src/data/prices_csv/stocks\\EOLS.csv\n",
      "2025-06-06 23:00:53,415, 4121356139.py, 10, INFO, Reading file: ../../05_src/data/prices_csv/stocks\\INSU.csv\n",
      "2025-06-06 23:00:53,435, 4121356139.py, 10, INFO, Reading file: ../../05_src/data/prices_csv/stocks\\BWEN.csv\n",
      "2025-06-06 23:00:53,468, 4121356139.py, 10, INFO, Reading file: ../../05_src/data/prices_csv/stocks\\BPMX.csv\n",
      "2025-06-06 23:00:53,484, 4121356139.py, 10, INFO, Reading file: ../../05_src/data/prices_csv/stocks\\LH.csv\n",
      "2025-06-06 23:00:53,526, 4121356139.py, 10, INFO, Reading file: ../../05_src/data/prices_csv/stocks\\BRQS.csv\n",
      "2025-06-06 23:00:53,543, 4121356139.py, 10, INFO, Reading file: ../../05_src/data/prices_csv/stocks\\KALU.csv\n",
      "2025-06-06 23:00:53,558, 4121356139.py, 10, INFO, Reading file: ../../05_src/data/prices_csv/stocks\\ITCB.csv\n",
      "2025-06-06 23:00:53,590, 4121356139.py, 10, INFO, Reading file: ../../05_src/data/prices_csv/stocks\\SRE.csv\n",
      "2025-06-06 23:00:53,624, 4121356139.py, 10, INFO, Reading file: ../../05_src/data/prices_csv/stocks\\GAZ.csv\n",
      "2025-06-06 23:00:53,646, 4121356139.py, 10, INFO, Reading file: ../../05_src/data/prices_csv/stocks\\AQMS.csv\n",
      "2025-06-06 23:00:53,666, 4121356139.py, 10, INFO, Reading file: ../../05_src/data/prices_csv/stocks\\NPK.csv\n",
      "2025-06-06 23:00:53,718, 4121356139.py, 10, INFO, Reading file: ../../05_src/data/prices_csv/stocks\\QRHC.csv\n",
      "2025-06-06 23:00:53,745, 4121356139.py, 10, INFO, Reading file: ../../05_src/data/prices_csv/stocks\\CGEN.csv\n",
      "2025-06-06 23:00:53,779, 4121356139.py, 10, INFO, Reading file: ../../05_src/data/prices_csv/stocks\\LEVL.csv\n",
      "2025-06-06 23:00:53,789, 4121356139.py, 10, INFO, Reading file: ../../05_src/data/prices_csv/stocks\\BGS.csv\n",
      "2025-06-06 23:00:53,825, 4121356139.py, 10, INFO, Reading file: ../../05_src/data/prices_csv/stocks\\RIV.csv\n",
      "2025-06-06 23:00:53,838, 4121356139.py, 10, INFO, Reading file: ../../05_src/data/prices_csv/stocks\\GURE.csv\n",
      "2025-06-06 23:00:53,855, 4121356139.py, 10, INFO, Reading file: ../../05_src/data/prices_csv/stocks\\TEF.csv\n",
      "2025-06-06 23:00:53,890, 4121356139.py, 10, INFO, Reading file: ../../05_src/data/prices_csv/stocks\\SYNH.csv\n",
      "2025-06-06 23:00:53,896, 4121356139.py, 10, INFO, Reading file: ../../05_src/data/prices_csv/stocks\\KEY.csv\n"
     ]
    }
   ],
   "source": [
    "import random\n",
    "\n",
    "stock_files = glob(os.path.join(os.getenv('SRC_DIR'), \"data/prices_csv/stocks/*.csv\"))\n",
    "\n",
    "random.seed(42)\n",
    "stock_files = random.sample(stock_files, 60)\n",
    "\n",
    "dt_list = []\n",
    "for s_file in stock_files:\n",
    "    _logs.info(f\"Reading file: {s_file}\")\n",
    "    dt = pd.read_csv(s_file).assign(\n",
    "        source = os.path.basename(s_file),\n",
    "        ticker = os.path.basename(s_file).replace('.csv', ''),\n",
    "        Date = lambda x: pd.to_datetime(x['Date'])\n",
    "    )\n",
    "    dt_list.append(dt)\n",
    "stock_prices = pd.concat(dt_list, axis = 0, ignore_index = True)\n",
    "\n"
   ]
  },
  {
   "cell_type": "markdown",
   "metadata": {},
   "source": [
    "Verify the structure of the `stock_prices` data:"
   ]
  },
  {
   "cell_type": "code",
   "execution_count": 31,
   "metadata": {},
   "outputs": [
    {
     "name": "stdout",
     "output_type": "stream",
     "text": [
      "<class 'pandas.core.frame.DataFrame'>\n",
      "RangeIndex: 239659 entries, 0 to 239658\n",
      "Data columns (total 9 columns):\n",
      " #   Column     Non-Null Count   Dtype         \n",
      "---  ------     --------------   -----         \n",
      " 0   Date       239659 non-null  datetime64[ns]\n",
      " 1   Open       239656 non-null  float64       \n",
      " 2   High       239656 non-null  float64       \n",
      " 3   Low        239656 non-null  float64       \n",
      " 4   Close      239656 non-null  float64       \n",
      " 5   Adj Close  239656 non-null  float64       \n",
      " 6   Volume     239656 non-null  float64       \n",
      " 7   source     239659 non-null  object        \n",
      " 8   ticker     239659 non-null  object        \n",
      "dtypes: datetime64[ns](1), float64(6), object(2)\n",
      "memory usage: 16.5+ MB\n"
     ]
    }
   ],
   "source": [
    "stock_prices.info()"
   ]
  },
  {
   "cell_type": "markdown",
   "metadata": {},
   "source": [
    "We can subset our ticker data set using standard indexing techniques. A good reference for this type of data manipulation is Panda's [Documentation](https://pandas.pydata.org/docs/user_guide/indexing.html#indexing-and-selecting-data) and [Cookbook](https://pandas.pydata.org/docs/user_guide/cookbook.html#cookbook-selection)."
   ]
  },
  {
   "cell_type": "markdown",
   "metadata": {},
   "source": [
    "From the subset data frame, select one column and convert to list."
   ]
  },
  {
   "cell_type": "code",
   "execution_count": 32,
   "metadata": {},
   "outputs": [
    {
     "data": {
      "text/plain": [
       "['TNC',\n",
       " 'CBB',\n",
       " 'ALDX',\n",
       " 'GLADD',\n",
       " 'FIXX',\n",
       " 'ETJ',\n",
       " 'CMCTP',\n",
       " 'BWG',\n",
       " 'VIAC',\n",
       " 'REI',\n",
       " 'BLPH',\n",
       " 'SMG',\n",
       " 'MOH',\n",
       " 'AMH',\n",
       " 'AMAL',\n",
       " 'BPYPN',\n",
       " 'ERH',\n",
       " 'FAMI',\n",
       " 'PFG',\n",
       " 'SPXC',\n",
       " 'ALL',\n",
       " 'RTTR',\n",
       " 'EARN',\n",
       " 'ZIXI',\n",
       " 'TSN',\n",
       " 'WST',\n",
       " 'REG',\n",
       " 'MNK',\n",
       " 'ESGR',\n",
       " 'NGD',\n",
       " 'SLRX',\n",
       " 'GLW',\n",
       " 'ACN',\n",
       " 'CSSE',\n",
       " 'WORK',\n",
       " 'MOS',\n",
       " 'IPWR',\n",
       " 'GLUU',\n",
       " 'CRMT',\n",
       " 'EOLS',\n",
       " 'INSU',\n",
       " 'BWEN',\n",
       " 'BPMX',\n",
       " 'LH',\n",
       " 'BRQS',\n",
       " 'KALU',\n",
       " 'ITCB',\n",
       " 'SRE',\n",
       " 'GAZ',\n",
       " 'AQMS',\n",
       " 'NPK',\n",
       " 'QRHC',\n",
       " 'CGEN',\n",
       " 'LEVL',\n",
       " 'BGS',\n",
       " 'RIV',\n",
       " 'GURE',\n",
       " 'TEF',\n",
       " 'SYNH',\n",
       " 'KEY']"
      ]
     },
     "execution_count": 32,
     "metadata": {},
     "output_type": "execute_result"
    }
   ],
   "source": [
    "select_tickers = stock_prices['ticker'].unique().tolist()\n",
    "select_tickers"
   ]
  },
  {
   "cell_type": "markdown",
   "metadata": {},
   "source": [
    "# Storing Data in CSV\n",
    "\n"
   ]
  },
  {
   "cell_type": "markdown",
   "metadata": {},
   "source": [
    "+ We have some data. How do we store it?\n",
    "+ We can compare two options, CSV and Parqruet, by measuring their performance:\n",
    "\n",
    "    - Time to save.\n",
    "    - Space required."
   ]
  },
  {
   "cell_type": "code",
   "execution_count": 33,
   "metadata": {},
   "outputs": [],
   "source": [
    "def get_dir_size(path='.'):\n",
    "    '''Returns the total size of files contained in path.'''\n",
    "    total = 0\n",
    "    with os.scandir(path) as it:\n",
    "        for entry in it:\n",
    "            if entry.is_file():\n",
    "                total += entry.stat().st_size\n",
    "            elif entry.is_dir():\n",
    "                total += get_dir_size(entry.path)\n",
    "    return total"
   ]
  },
  {
   "cell_type": "code",
   "execution_count": 34,
   "metadata": {},
   "outputs": [],
   "source": [
    "import time\n",
    "import shutil"
   ]
  },
  {
   "cell_type": "code",
   "execution_count": 35,
   "metadata": {},
   "outputs": [],
   "source": [
    "temp = os.getenv(\"TEMP_DATA\")\n",
    "csv_dir = os.path.join(temp, \"csv\")\n",
    "shutil.rmtree(csv_dir, ignore_errors=True)\n",
    "stock_csv = os.path.join(csv_dir, \"stock_px.csv\")\n",
    "os.makedirs(csv_dir, exist_ok=True)"
   ]
  },
  {
   "cell_type": "code",
   "execution_count": 36,
   "metadata": {},
   "outputs": [
    {
     "name": "stderr",
     "output_type": "stream",
     "text": [
      "2025-06-06 23:00:56,747, 473192941.py, 5, INFO, Writing data ((239659, 9)) to csv took 2.5538690090179443 seconds.\n",
      "2025-06-06 23:00:56,747, 473192941.py, 6, INFO, CSV file size 26.618403999999998 MB\n"
     ]
    }
   ],
   "source": [
    "\n",
    "start = time.time()\n",
    "stock_prices.to_csv(stock_csv, index = False)\n",
    "end = time.time()\n",
    "\n",
    "_logs.info(f'Writing data ({stock_prices.shape}) to csv took {end - start} seconds.')\n",
    "_logs.info(f'CSV file size { os.path.getsize(stock_csv)*1e-6 } MB')"
   ]
  },
  {
   "cell_type": "markdown",
   "metadata": {},
   "source": [
    "## Save Data to Parquet\n",
    "\n",
    "### Dask \n",
    "\n",
    "We can work with with large data sets and parquet files. In fact, recent versions of pandas support pyarrow data types and future versions will require a pyarrow backend. The pyarrow library is an interface between Python and the Appache Arrow project. The [parquet data format](https://parquet.apache.org/) and [Arrow](https://arrow.apache.org/docs/python/parquet.html) are projects of the Apache Foundation.\n",
    "\n",
    "However, Dask is much more than an interface to Arrow: Dask provides parallel and distributed computing on pandas-like dataframes. It is also relatively easy to use, bridging a gap between pandas and Spark. "
   ]
  },
  {
   "cell_type": "code",
   "execution_count": 37,
   "metadata": {},
   "outputs": [],
   "source": [
    "import dask.dataframe as dd\n",
    "\n",
    "parquet_dir = os.path.join(temp, \"parquet\")\n",
    "shutil.rmtree(parquet_dir, ignore_errors=True)\n",
    "os.makedirs(parquet_dir, exist_ok=True)"
   ]
  },
  {
   "cell_type": "code",
   "execution_count": 38,
   "metadata": {},
   "outputs": [
    {
     "name": "stderr",
     "output_type": "stream",
     "text": [
      "2025-06-06 23:00:57,526, 817812245.py, 7, INFO, Writing dd ((239659, 9)) to parquet took 0.650731086730957 seconds.\n",
      "2025-06-06 23:00:57,534, 817812245.py, 8, INFO, Parquet file size 9.695952 MB\n"
     ]
    }
   ],
   "source": [
    "px_dd = dd.from_pandas(stock_prices, npartitions = len(select_tickers))\n",
    "\n",
    "start = time.time()\n",
    "px_dd.to_parquet(parquet_dir, engine = \"pyarrow\")\n",
    "end = time.time()\n",
    "\n",
    "_logs.info(f'Writing dd ({stock_prices.shape}) to parquet took {end - start} seconds.')\n",
    "_logs.info(f'Parquet file size { get_dir_size(parquet_dir)*1e-6 } MB')"
   ]
  },
  {
   "cell_type": "markdown",
   "metadata": {},
   "source": [
    "### Parquet files and Dask Dataframes\n",
    "\n",
    "+ Parquet files are immutable: once written, they cannot be modified.\n",
    "+ Dask DataFrames are a useful implementation to manipulate data stored in parquets.\n",
    "+ Parquet and Dask are not the same: parquet is a file format that can be accessed by many applications and programming languages (Python, R, PowerBI, etc.), while Dask is a package in Python to work with large datasets using distributed computation.\n",
    "+ **Dask is not for everything** (see [Dask DataFrames Best Practices](https://docs.dask.org/en/stable/dataframe-best-practices.html)). \n",
    "\n",
    "    - Consider cases suchas small to large joins, where the small dataframe fits in memory, but the large one does not. \n",
    "    - If possible, use pandas: reduce, then use pandas.\n",
    "    - Pandas performance tips apply to Dask.\n",
    "    - Use the index: it is beneficial to have a well-defined index in Dask DataFrames, as it may speed up searching (filtering) the data. A one-dimensional index is allowed.\n",
    "    - Avoid (or minimize) full-data shuffling: indexing is an expensive operations. \n",
    "    - Some joins are more expensive than others. \n",
    "\n",
    "        * Not expensive:\n",
    "\n",
    "            - Join a Dask DataFrame with a pandas DataFrame.\n",
    "            - Join a Dask DataFrame with another Dask DataFrame of a single partition.\n",
    "            - Join Dask DataFrames along their indexes.\n",
    "\n",
    "        * Expensive:\n",
    "\n",
    "            - Join Dask DataFrames along columns that are not their index.\n"
   ]
  },
  {
   "cell_type": "markdown",
   "metadata": {},
   "source": [
    "# How do we store prices?\n",
    "\n",
    "+ We can store our data as a single blob. This can be difficult to maintain, especially because parquet files are immutable.\n",
    "+ Strategy: organize data files by ticker and date. Update only latest month.\n",
    "\n"
   ]
  },
  {
   "cell_type": "code",
   "execution_count": 39,
   "metadata": {},
   "outputs": [],
   "source": [
    "# CLean up before start\n",
    "PRICE_DATA = os.getenv(\"PRICE_DATA\")\n",
    "import shutil\n",
    "if os.path.exists(PRICE_DATA):\n",
    "    shutil.rmtree(PRICE_DATA)"
   ]
  },
  {
   "cell_type": "code",
   "execution_count": 40,
   "metadata": {},
   "outputs": [
    {
     "data": {
      "text/plain": [
       "Index(['Date', 'Open', 'High', 'Low', 'Close', 'Adj Close', 'Volume', 'source',\n",
       "       'ticker'],\n",
       "      dtype='object')"
      ]
     },
     "execution_count": 40,
     "metadata": {},
     "output_type": "execute_result"
    }
   ],
   "source": [
    "stock_prices.columns"
   ]
  },
  {
   "cell_type": "code",
   "execution_count": 41,
   "metadata": {},
   "outputs": [],
   "source": [
    "for ticker in stock_prices['ticker'].unique():\n",
    "    ticker_dt = stock_prices[stock_prices['ticker'] == ticker]\n",
    "    ticker_dt = ticker_dt.assign(Year = ticker_dt.Date.dt.year)\n",
    "    for yr in ticker_dt['Year'].unique():\n",
    "        yr_dd = dd.from_pandas(ticker_dt[ticker_dt['Year'] == yr],2)\n",
    "        yr_path = os.path.join(PRICE_DATA, ticker, f\"{ticker}_{yr}\")\n",
    "        os.makedirs(os.path.dirname(yr_path), exist_ok=True)\n",
    "        yr_dd.to_parquet(yr_path, engine = \"pyarrow\")\n",
    "    "
   ]
  },
  {
   "cell_type": "markdown",
   "metadata": {},
   "source": [
    "Why would we want to store data this way?\n",
    "\n",
    "+ Easier to maintain. We do not update old data, only recent data.\n",
    "+ We can also access all files as follows."
   ]
  },
  {
   "cell_type": "markdown",
   "metadata": {},
   "source": [
    "# Load, Transform and Save "
   ]
  },
  {
   "cell_type": "markdown",
   "metadata": {},
   "source": [
    "## Load\n",
    "\n",
    "+ Parquet files can be read individually or as a collection.\n",
    "+ `dd.read_parquet()` can take a list (collection) of files as input.\n",
    "+ Use `glob` to get the collection of files."
   ]
  },
  {
   "cell_type": "code",
   "execution_count": 42,
   "metadata": {},
   "outputs": [],
   "source": [
    "from glob import glob\n",
    "\n",
    "parquet_files = glob(os.path.join(PRICE_DATA, \"**/*.parquet\"), recursive = True)\n",
    "dd_px = dd.read_parquet(parquet_files).set_index(\"ticker\")"
   ]
  },
  {
   "cell_type": "markdown",
   "metadata": {},
   "source": [
    "## Transform\n",
    "\n",
    "+ This transformation step will create a *Features* data set. In our case, features will be stock returns (we obtained prices).\n",
    "+ Dask dataframes work like pandas dataframes: in particular, we can perform groupby and apply operations.\n",
    "+ Notice the use of [an anonymous (lambda) function](https://realpython.com/python-lambda/) in the apply statement."
   ]
  },
  {
   "cell_type": "code",
   "execution_count": 43,
   "metadata": {},
   "outputs": [
    {
     "name": "stderr",
     "output_type": "stream",
     "text": [
      "C:\\Users\\laksh\\AppData\\Local\\Temp\\ipykernel_9392\\102405636.py:1: UserWarning: `meta` is not specified, inferred from partial data. Please provide `meta` if the result is unexpected.\n",
      "  Before: .apply(func)\n",
      "  After:  .apply(func, meta={'x': 'f8', 'y': 'f8'}) for dataframe result\n",
      "  or:     .apply(func, meta=('x', 'f8'))            for series result\n",
      "  dd_shift = dd_px.groupby('ticker', group_keys=False).apply(\n"
     ]
    }
   ],
   "source": [
    "dd_shift = dd_px.groupby('ticker', group_keys=False).apply(\n",
    "    lambda x: x.assign(Close_lag_1 = x['Close'].shift(1))\n",
    ")"
   ]
  },
  {
   "cell_type": "code",
   "execution_count": 44,
   "metadata": {},
   "outputs": [],
   "source": [
    "dd_rets = dd_shift.assign(\n",
    "    Returns = lambda x: x['Close']/x['Close_lag_1'] - 1\n",
    ")"
   ]
  },
  {
   "cell_type": "markdown",
   "metadata": {},
   "source": [
    "## Lazy Exection\n",
    "\n",
    "What does `dd_rets` contain?"
   ]
  },
  {
   "cell_type": "code",
   "execution_count": 45,
   "metadata": {},
   "outputs": [
    {
     "data": {
      "text/html": [
       "<div><strong>Dask DataFrame Structure:</strong></div>\n",
       "<table border=\"1\" class=\"dataframe\">\n",
       "  <thead>\n",
       "    <tr style=\"text-align: right;\">\n",
       "      <th></th>\n",
       "      <th>Date</th>\n",
       "      <th>Open</th>\n",
       "      <th>High</th>\n",
       "      <th>Low</th>\n",
       "      <th>Close</th>\n",
       "      <th>Adj Close</th>\n",
       "      <th>Volume</th>\n",
       "      <th>source</th>\n",
       "      <th>Year</th>\n",
       "      <th>Close_lag_1</th>\n",
       "      <th>Returns</th>\n",
       "    </tr>\n",
       "    <tr>\n",
       "      <th>npartitions=60</th>\n",
       "      <th></th>\n",
       "      <th></th>\n",
       "      <th></th>\n",
       "      <th></th>\n",
       "      <th></th>\n",
       "      <th></th>\n",
       "      <th></th>\n",
       "      <th></th>\n",
       "      <th></th>\n",
       "      <th></th>\n",
       "      <th></th>\n",
       "    </tr>\n",
       "  </thead>\n",
       "  <tbody>\n",
       "    <tr>\n",
       "      <th>ACN</th>\n",
       "      <td>datetime64[ns]</td>\n",
       "      <td>float64</td>\n",
       "      <td>float64</td>\n",
       "      <td>float64</td>\n",
       "      <td>float64</td>\n",
       "      <td>float64</td>\n",
       "      <td>float64</td>\n",
       "      <td>object</td>\n",
       "      <td>int32</td>\n",
       "      <td>float64</td>\n",
       "      <td>float64</td>\n",
       "    </tr>\n",
       "    <tr>\n",
       "      <th>ALDX</th>\n",
       "      <td>...</td>\n",
       "      <td>...</td>\n",
       "      <td>...</td>\n",
       "      <td>...</td>\n",
       "      <td>...</td>\n",
       "      <td>...</td>\n",
       "      <td>...</td>\n",
       "      <td>...</td>\n",
       "      <td>...</td>\n",
       "      <td>...</td>\n",
       "      <td>...</td>\n",
       "    </tr>\n",
       "    <tr>\n",
       "      <th>...</th>\n",
       "      <td>...</td>\n",
       "      <td>...</td>\n",
       "      <td>...</td>\n",
       "      <td>...</td>\n",
       "      <td>...</td>\n",
       "      <td>...</td>\n",
       "      <td>...</td>\n",
       "      <td>...</td>\n",
       "      <td>...</td>\n",
       "      <td>...</td>\n",
       "      <td>...</td>\n",
       "    </tr>\n",
       "    <tr>\n",
       "      <th>ZIXI</th>\n",
       "      <td>...</td>\n",
       "      <td>...</td>\n",
       "      <td>...</td>\n",
       "      <td>...</td>\n",
       "      <td>...</td>\n",
       "      <td>...</td>\n",
       "      <td>...</td>\n",
       "      <td>...</td>\n",
       "      <td>...</td>\n",
       "      <td>...</td>\n",
       "      <td>...</td>\n",
       "    </tr>\n",
       "    <tr>\n",
       "      <th>ZIXI</th>\n",
       "      <td>...</td>\n",
       "      <td>...</td>\n",
       "      <td>...</td>\n",
       "      <td>...</td>\n",
       "      <td>...</td>\n",
       "      <td>...</td>\n",
       "      <td>...</td>\n",
       "      <td>...</td>\n",
       "      <td>...</td>\n",
       "      <td>...</td>\n",
       "      <td>...</td>\n",
       "    </tr>\n",
       "  </tbody>\n",
       "</table>\n",
       "<div>Dask Name: assign, 9 expressions</div>"
      ],
      "text/plain": [
       "Dask DataFrame Structure:\n",
       "                          Date     Open     High      Low    Close Adj Close   Volume  source   Year Close_lag_1  Returns\n",
       "npartitions=60                                                                                                           \n",
       "ACN             datetime64[ns]  float64  float64  float64  float64   float64  float64  object  int32     float64  float64\n",
       "ALDX                       ...      ...      ...      ...      ...       ...      ...     ...    ...         ...      ...\n",
       "...                        ...      ...      ...      ...      ...       ...      ...     ...    ...         ...      ...\n",
       "ZIXI                       ...      ...      ...      ...      ...       ...      ...     ...    ...         ...      ...\n",
       "ZIXI                       ...      ...      ...      ...      ...       ...      ...     ...    ...         ...      ...\n",
       "Dask Name: assign, 9 expressions\n",
       "Expr=Assign(frame=Assign(frame=GroupByApply(frame=SetIndex(frame=ReadParquetFSSpec(9e3ba96), _other='ticker', options={}), observed=False, group_keys=False, func=<function <lambda> at 0x0000026A95B94790>, meta=<no_default>, args=(), kwargs={})))"
      ]
     },
     "execution_count": 45,
     "metadata": {},
     "output_type": "execute_result"
    }
   ],
   "source": [
    "dd_rets"
   ]
  },
  {
   "cell_type": "markdown",
   "metadata": {},
   "source": [
    "+ Dask is a lazy execution framework: commands will not execute until they are required. \n",
    "+ To trigger an execution in dask use `.compute()`."
   ]
  },
  {
   "cell_type": "code",
   "execution_count": 46,
   "metadata": {},
   "outputs": [
    {
     "data": {
      "text/html": [
       "<div>\n",
       "<style scoped>\n",
       "    .dataframe tbody tr th:only-of-type {\n",
       "        vertical-align: middle;\n",
       "    }\n",
       "\n",
       "    .dataframe tbody tr th {\n",
       "        vertical-align: top;\n",
       "    }\n",
       "\n",
       "    .dataframe thead th {\n",
       "        text-align: right;\n",
       "    }\n",
       "</style>\n",
       "<table border=\"1\" class=\"dataframe\">\n",
       "  <thead>\n",
       "    <tr style=\"text-align: right;\">\n",
       "      <th></th>\n",
       "      <th>Date</th>\n",
       "      <th>Open</th>\n",
       "      <th>High</th>\n",
       "      <th>Low</th>\n",
       "      <th>Close</th>\n",
       "      <th>Adj Close</th>\n",
       "      <th>Volume</th>\n",
       "      <th>source</th>\n",
       "      <th>Year</th>\n",
       "      <th>Close_lag_1</th>\n",
       "      <th>Returns</th>\n",
       "    </tr>\n",
       "    <tr>\n",
       "      <th>ticker</th>\n",
       "      <th></th>\n",
       "      <th></th>\n",
       "      <th></th>\n",
       "      <th></th>\n",
       "      <th></th>\n",
       "      <th></th>\n",
       "      <th></th>\n",
       "      <th></th>\n",
       "      <th></th>\n",
       "      <th></th>\n",
       "      <th></th>\n",
       "    </tr>\n",
       "  </thead>\n",
       "  <tbody>\n",
       "    <tr>\n",
       "      <th>ACN</th>\n",
       "      <td>2018-01-02</td>\n",
       "      <td>153.500000</td>\n",
       "      <td>154.100006</td>\n",
       "      <td>152.779999</td>\n",
       "      <td>153.839996</td>\n",
       "      <td>148.655960</td>\n",
       "      <td>3061900.0</td>\n",
       "      <td>ACN.csv</td>\n",
       "      <td>2018</td>\n",
       "      <td>NaN</td>\n",
       "      <td>NaN</td>\n",
       "    </tr>\n",
       "    <tr>\n",
       "      <th>ACN</th>\n",
       "      <td>2018-01-03</td>\n",
       "      <td>152.990005</td>\n",
       "      <td>154.990005</td>\n",
       "      <td>152.990005</td>\n",
       "      <td>154.550003</td>\n",
       "      <td>149.342056</td>\n",
       "      <td>2064200.0</td>\n",
       "      <td>ACN.csv</td>\n",
       "      <td>2018</td>\n",
       "      <td>153.839996</td>\n",
       "      <td>0.004615</td>\n",
       "    </tr>\n",
       "    <tr>\n",
       "      <th>ACN</th>\n",
       "      <td>2018-01-04</td>\n",
       "      <td>155.000000</td>\n",
       "      <td>156.860001</td>\n",
       "      <td>154.770004</td>\n",
       "      <td>156.380005</td>\n",
       "      <td>151.110382</td>\n",
       "      <td>1777000.0</td>\n",
       "      <td>ACN.csv</td>\n",
       "      <td>2018</td>\n",
       "      <td>154.550003</td>\n",
       "      <td>0.011841</td>\n",
       "    </tr>\n",
       "    <tr>\n",
       "      <th>ACN</th>\n",
       "      <td>2018-01-05</td>\n",
       "      <td>156.610001</td>\n",
       "      <td>157.720001</td>\n",
       "      <td>156.130005</td>\n",
       "      <td>157.669998</td>\n",
       "      <td>152.356918</td>\n",
       "      <td>1597600.0</td>\n",
       "      <td>ACN.csv</td>\n",
       "      <td>2018</td>\n",
       "      <td>156.380005</td>\n",
       "      <td>0.008249</td>\n",
       "    </tr>\n",
       "    <tr>\n",
       "      <th>ACN</th>\n",
       "      <td>2018-01-08</td>\n",
       "      <td>157.369995</td>\n",
       "      <td>159.009995</td>\n",
       "      <td>156.839996</td>\n",
       "      <td>158.929993</td>\n",
       "      <td>153.574463</td>\n",
       "      <td>2616900.0</td>\n",
       "      <td>ACN.csv</td>\n",
       "      <td>2018</td>\n",
       "      <td>157.669998</td>\n",
       "      <td>0.007991</td>\n",
       "    </tr>\n",
       "    <tr>\n",
       "      <th>...</th>\n",
       "      <td>...</td>\n",
       "      <td>...</td>\n",
       "      <td>...</td>\n",
       "      <td>...</td>\n",
       "      <td>...</td>\n",
       "      <td>...</td>\n",
       "      <td>...</td>\n",
       "      <td>...</td>\n",
       "      <td>...</td>\n",
       "      <td>...</td>\n",
       "      <td>...</td>\n",
       "    </tr>\n",
       "    <tr>\n",
       "      <th>ZIXI</th>\n",
       "      <td>2003-06-26</td>\n",
       "      <td>4.040000</td>\n",
       "      <td>4.190000</td>\n",
       "      <td>3.860000</td>\n",
       "      <td>4.000000</td>\n",
       "      <td>4.000000</td>\n",
       "      <td>515300.0</td>\n",
       "      <td>ZIXI.csv</td>\n",
       "      <td>2003</td>\n",
       "      <td>4.040000</td>\n",
       "      <td>-0.009901</td>\n",
       "    </tr>\n",
       "    <tr>\n",
       "      <th>ZIXI</th>\n",
       "      <td>2003-06-27</td>\n",
       "      <td>4.000000</td>\n",
       "      <td>4.050000</td>\n",
       "      <td>3.790000</td>\n",
       "      <td>3.850000</td>\n",
       "      <td>3.850000</td>\n",
       "      <td>162400.0</td>\n",
       "      <td>ZIXI.csv</td>\n",
       "      <td>2003</td>\n",
       "      <td>4.000000</td>\n",
       "      <td>-0.037500</td>\n",
       "    </tr>\n",
       "    <tr>\n",
       "      <th>ZIXI</th>\n",
       "      <td>2003-06-30</td>\n",
       "      <td>3.840000</td>\n",
       "      <td>4.000000</td>\n",
       "      <td>3.720000</td>\n",
       "      <td>3.770000</td>\n",
       "      <td>3.770000</td>\n",
       "      <td>119900.0</td>\n",
       "      <td>ZIXI.csv</td>\n",
       "      <td>2003</td>\n",
       "      <td>3.850000</td>\n",
       "      <td>-0.020779</td>\n",
       "    </tr>\n",
       "    <tr>\n",
       "      <th>ZIXI</th>\n",
       "      <td>2003-07-01</td>\n",
       "      <td>3.720000</td>\n",
       "      <td>3.850000</td>\n",
       "      <td>3.650000</td>\n",
       "      <td>3.780000</td>\n",
       "      <td>3.780000</td>\n",
       "      <td>202100.0</td>\n",
       "      <td>ZIXI.csv</td>\n",
       "      <td>2003</td>\n",
       "      <td>3.770000</td>\n",
       "      <td>0.002653</td>\n",
       "    </tr>\n",
       "    <tr>\n",
       "      <th>ZIXI</th>\n",
       "      <td>2003-07-02</td>\n",
       "      <td>3.810000</td>\n",
       "      <td>3.990000</td>\n",
       "      <td>3.730000</td>\n",
       "      <td>3.730000</td>\n",
       "      <td>3.730000</td>\n",
       "      <td>81100.0</td>\n",
       "      <td>ZIXI.csv</td>\n",
       "      <td>2003</td>\n",
       "      <td>3.780000</td>\n",
       "      <td>-0.013228</td>\n",
       "    </tr>\n",
       "  </tbody>\n",
       "</table>\n",
       "<p>239659 rows × 11 columns</p>\n",
       "</div>"
      ],
      "text/plain": [
       "             Date        Open        High         Low       Close   Adj Close  \\\n",
       "ticker                                                                          \n",
       "ACN    2018-01-02  153.500000  154.100006  152.779999  153.839996  148.655960   \n",
       "ACN    2018-01-03  152.990005  154.990005  152.990005  154.550003  149.342056   \n",
       "ACN    2018-01-04  155.000000  156.860001  154.770004  156.380005  151.110382   \n",
       "ACN    2018-01-05  156.610001  157.720001  156.130005  157.669998  152.356918   \n",
       "ACN    2018-01-08  157.369995  159.009995  156.839996  158.929993  153.574463   \n",
       "...           ...         ...         ...         ...         ...         ...   \n",
       "ZIXI   2003-06-26    4.040000    4.190000    3.860000    4.000000    4.000000   \n",
       "ZIXI   2003-06-27    4.000000    4.050000    3.790000    3.850000    3.850000   \n",
       "ZIXI   2003-06-30    3.840000    4.000000    3.720000    3.770000    3.770000   \n",
       "ZIXI   2003-07-01    3.720000    3.850000    3.650000    3.780000    3.780000   \n",
       "ZIXI   2003-07-02    3.810000    3.990000    3.730000    3.730000    3.730000   \n",
       "\n",
       "           Volume    source  Year  Close_lag_1   Returns  \n",
       "ticker                                                    \n",
       "ACN     3061900.0   ACN.csv  2018          NaN       NaN  \n",
       "ACN     2064200.0   ACN.csv  2018   153.839996  0.004615  \n",
       "ACN     1777000.0   ACN.csv  2018   154.550003  0.011841  \n",
       "ACN     1597600.0   ACN.csv  2018   156.380005  0.008249  \n",
       "ACN     2616900.0   ACN.csv  2018   157.669998  0.007991  \n",
       "...           ...       ...   ...          ...       ...  \n",
       "ZIXI     515300.0  ZIXI.csv  2003     4.040000 -0.009901  \n",
       "ZIXI     162400.0  ZIXI.csv  2003     4.000000 -0.037500  \n",
       "ZIXI     119900.0  ZIXI.csv  2003     3.850000 -0.020779  \n",
       "ZIXI     202100.0  ZIXI.csv  2003     3.770000  0.002653  \n",
       "ZIXI      81100.0  ZIXI.csv  2003     3.780000 -0.013228  \n",
       "\n",
       "[239659 rows x 11 columns]"
      ]
     },
     "execution_count": 46,
     "metadata": {},
     "output_type": "execute_result"
    }
   ],
   "source": [
    "dd_rets.compute()"
   ]
  },
  {
   "cell_type": "markdown",
   "metadata": {},
   "source": [
    "## Save\n",
    "\n",
    "+ Apply transformations to calculate daily returns\n",
    "+ Store the enriched data, the silver dataset, in a new directory.\n",
    "+ Should we keep the same namespace? All columns?"
   ]
  },
  {
   "cell_type": "code",
   "execution_count": 47,
   "metadata": {},
   "outputs": [],
   "source": [
    "# CLean up before save\n",
    "FEATURES_DATA = os.getenv(\"FEATURES_DATA\")\n",
    "if os.path.exists(FEATURES_DATA):\n",
    "    shutil.rmtree(FEATURES_DATA)\n",
    "dd_rets.to_parquet(FEATURES_DATA, overwrite = True)"
   ]
  },
  {
   "cell_type": "markdown",
   "metadata": {},
   "source": [
    "# Optional: from Jupyter to Command Line\n",
    "\n",
    "+ We have drafted our code in a Jupyter Notebook. \n",
    "+ Finalized code should be written in Python modules.\n",
    "\n",
    "## Object Oriented vs Functional Programming\n",
    "\n",
    "+ We can use classes to keep parameters and functions together.\n",
    "+ We *could* use Object Oriented Programming, but parallelization of data manipulation and modelling tasks benefit from *Functional Programming*.\n",
    "+ An Idea: \n",
    "\n",
    "    - [Data Oriented Programming](https://blog.klipse.tech/dop/2022/06/22/principles-of-dop.html).\n",
    "    - Use the class to bundle together parameters and functions.\n",
    "    - Use stateless operations and treat all data objects as immutable (we do not modify them, we overwrite them).\n",
    "    - Take advantage of [`@staticmethod`](https://realpython.com/instance-class-and-static-methods-demystified/).\n",
    "\n",
    "The code is in `./05_src/stock_prices/data_manager.py`."
   ]
  },
  {
   "cell_type": "markdown",
   "metadata": {},
   "source": [
    "Our original design was:\n",
    "\n",
    "![](./images/02_target_pipeline_manager.png)\n",
    "\n"
   ]
  },
  {
   "cell_type": "code",
   "execution_count": 48,
   "metadata": {},
   "outputs": [],
   "source": [
    "from stock_prices.data_manager import DataManager\n",
    "dm = DataManager()"
   ]
  },
  {
   "cell_type": "markdown",
   "metadata": {},
   "source": [
    "Download all prices."
   ]
  },
  {
   "cell_type": "code",
   "execution_count": 49,
   "metadata": {},
   "outputs": [
    {
     "name": "stderr",
     "output_type": "stream",
     "text": [
      "2025-06-06 23:02:28,186, data_manager.py, 53, INFO, Processing sample of tickers\n",
      "2025-06-06 23:02:28,196, data_manager.py, 64, INFO, Getting file list from ../../05_src/data/prices_csv/\n",
      "2025-06-06 23:02:28,272, data_manager.py, 66, INFO, Found 8049 files in ../../05_src/data/prices/\n",
      "2025-06-06 23:02:28,277, data_manager.py, 74, INFO, Selecting sample of files\n",
      "2025-06-06 23:02:28,277, data_manager.py, 80, INFO, Selected 30 files\n",
      "2025-06-06 23:02:28,277, data_manager.py, 90, INFO, Processing file ../../05_src/data/prices_csv\\stocks\\PLAB.csv\n",
      "2025-06-06 23:02:28,284, data_manager.py, 118, INFO, Reading file: ../../05_src/data/prices_csv\\stocks\\PLAB.csv\n",
      "2025-06-06 23:02:28,317, data_manager.py, 101, INFO, Saving data by year\n",
      "2025-06-06 23:02:29,288, data_manager.py, 90, INFO, Processing file ../../05_src/data/prices_csv\\stocks\\BLK.csv\n",
      "2025-06-06 23:02:29,288, data_manager.py, 118, INFO, Reading file: ../../05_src/data/prices_csv\\stocks\\BLK.csv\n",
      "2025-06-06 23:02:29,319, data_manager.py, 101, INFO, Saving data by year\n",
      "2025-06-06 23:02:29,952, data_manager.py, 90, INFO, Processing file ../../05_src/data/prices_csv\\stocks\\WTIU.csv\n",
      "2025-06-06 23:02:29,952, data_manager.py, 118, INFO, Reading file: ../../05_src/data/prices_csv\\stocks\\WTIU.csv\n",
      "2025-06-06 23:02:29,969, data_manager.py, 101, INFO, Saving data by year\n",
      "2025-06-06 23:02:30,101, data_manager.py, 90, INFO, Processing file ../../05_src/data/prices_csv\\stocks\\UONE.csv\n",
      "2025-06-06 23:02:30,101, data_manager.py, 118, INFO, Reading file: ../../05_src/data/prices_csv\\stocks\\UONE.csv\n",
      "2025-06-06 23:02:30,128, data_manager.py, 101, INFO, Saving data by year\n",
      "2025-06-06 23:02:30,786, data_manager.py, 90, INFO, Processing file ../../05_src/data/prices_csv\\stocks\\DHCNI.csv\n",
      "2025-06-06 23:02:30,786, data_manager.py, 118, INFO, Reading file: ../../05_src/data/prices_csv\\stocks\\DHCNI.csv\n",
      "2025-06-06 23:02:30,802, data_manager.py, 101, INFO, Saving data by year\n",
      "2025-06-06 23:02:31,052, data_manager.py, 90, INFO, Processing file ../../05_src/data/prices_csv\\stocks\\AOBC.csv\n",
      "2025-06-06 23:02:31,053, data_manager.py, 118, INFO, Reading file: ../../05_src/data/prices_csv\\stocks\\AOBC.csv\n",
      "2025-06-06 23:02:31,083, data_manager.py, 101, INFO, Saving data by year\n",
      "2025-06-06 23:02:31,745, data_manager.py, 90, INFO, Processing file ../../05_src/data/prices_csv\\stocks\\NUM.csv\n",
      "2025-06-06 23:02:31,745, data_manager.py, 118, INFO, Reading file: ../../05_src/data/prices_csv\\stocks\\NUM.csv\n",
      "2025-06-06 23:02:31,775, data_manager.py, 101, INFO, Saving data by year\n",
      "2025-06-06 23:02:32,637, data_manager.py, 90, INFO, Processing file ../../05_src/data/prices_csv\\etfs\\EEM.csv\n",
      "2025-06-06 23:02:32,637, data_manager.py, 118, INFO, Reading file: ../../05_src/data/prices_csv\\etfs\\EEM.csv\n",
      "2025-06-06 23:02:32,667, data_manager.py, 101, INFO, Saving data by year\n",
      "2025-06-06 23:02:33,193, data_manager.py, 90, INFO, Processing file ../../05_src/data/prices_csv\\etfs\\FDD.csv\n",
      "2025-06-06 23:02:33,193, data_manager.py, 118, INFO, Reading file: ../../05_src/data/prices_csv\\etfs\\FDD.csv\n",
      "2025-06-06 23:02:33,208, data_manager.py, 101, INFO, Saving data by year\n",
      "2025-06-06 23:02:33,651, data_manager.py, 90, INFO, Processing file ../../05_src/data/prices_csv\\etfs\\SSO.csv\n",
      "2025-06-06 23:02:33,651, data_manager.py, 118, INFO, Reading file: ../../05_src/data/prices_csv\\etfs\\SSO.csv\n",
      "2025-06-06 23:02:33,670, data_manager.py, 101, INFO, Saving data by year\n",
      "2025-06-06 23:02:34,167, data_manager.py, 90, INFO, Processing file ../../05_src/data/prices_csv\\etfs\\IBDD.csv\n",
      "2025-06-06 23:02:34,167, data_manager.py, 118, INFO, Reading file: ../../05_src/data/prices_csv\\etfs\\IBDD.csv\n",
      "2025-06-06 23:02:34,167, data_manager.py, 101, INFO, Saving data by year\n",
      "2025-06-06 23:02:34,432, data_manager.py, 90, INFO, Processing file ../../05_src/data/prices_csv\\stocks\\IBM.csv\n",
      "2025-06-06 23:02:34,433, data_manager.py, 118, INFO, Reading file: ../../05_src/data/prices_csv\\stocks\\IBM.csv\n",
      "2025-06-06 23:02:34,472, data_manager.py, 101, INFO, Saving data by year\n",
      "2025-06-06 23:02:36,569, data_manager.py, 90, INFO, Processing file ../../05_src/data/prices_csv\\stocks\\NNBR.csv\n",
      "2025-06-06 23:02:36,571, data_manager.py, 118, INFO, Reading file: ../../05_src/data/prices_csv\\stocks\\NNBR.csv\n",
      "2025-06-06 23:02:36,617, data_manager.py, 101, INFO, Saving data by year\n",
      "2025-06-06 23:02:37,558, data_manager.py, 90, INFO, Processing file ../../05_src/data/prices_csv\\stocks\\MBI.csv\n",
      "2025-06-06 23:02:37,558, data_manager.py, 118, INFO, Reading file: ../../05_src/data/prices_csv\\stocks\\MBI.csv\n",
      "2025-06-06 23:02:37,601, data_manager.py, 101, INFO, Saving data by year\n",
      "2025-06-06 23:02:38,738, data_manager.py, 90, INFO, Processing file ../../05_src/data/prices_csv\\stocks\\KRP.csv\n",
      "2025-06-06 23:02:38,741, data_manager.py, 118, INFO, Reading file: ../../05_src/data/prices_csv\\stocks\\KRP.csv\n",
      "2025-06-06 23:02:38,741, data_manager.py, 101, INFO, Saving data by year\n",
      "2025-06-06 23:02:38,881, data_manager.py, 90, INFO, Processing file ../../05_src/data/prices_csv\\stocks\\ELA.csv\n",
      "2025-06-06 23:02:38,881, data_manager.py, 118, INFO, Reading file: ../../05_src/data/prices_csv\\stocks\\ELA.csv\n",
      "2025-06-06 23:02:38,900, data_manager.py, 101, INFO, Saving data by year\n",
      "2025-06-06 23:02:39,169, data_manager.py, 90, INFO, Processing file ../../05_src/data/prices_csv\\stocks\\HAE.csv\n",
      "2025-06-06 23:02:39,170, data_manager.py, 118, INFO, Reading file: ../../05_src/data/prices_csv\\stocks\\HAE.csv\n",
      "2025-06-06 23:02:39,196, data_manager.py, 101, INFO, Saving data by year\n",
      "2025-06-06 23:02:40,149, data_manager.py, 90, INFO, Processing file ../../05_src/data/prices_csv\\stocks\\TCMD.csv\n",
      "2025-06-06 23:02:40,149, data_manager.py, 118, INFO, Reading file: ../../05_src/data/prices_csv\\stocks\\TCMD.csv\n",
      "2025-06-06 23:02:40,166, data_manager.py, 101, INFO, Saving data by year\n",
      "2025-06-06 23:02:40,334, data_manager.py, 90, INFO, Processing file ../../05_src/data/prices_csv\\stocks\\MDLZ.csv\n",
      "2025-06-06 23:02:40,338, data_manager.py, 118, INFO, Reading file: ../../05_src/data/prices_csv\\stocks\\MDLZ.csv\n",
      "2025-06-06 23:02:40,365, data_manager.py, 101, INFO, Saving data by year\n",
      "2025-06-06 23:02:40,965, data_manager.py, 90, INFO, Processing file ../../05_src/data/prices_csv\\stocks\\DJCO.csv\n",
      "2025-06-06 23:02:40,966, data_manager.py, 118, INFO, Reading file: ../../05_src/data/prices_csv\\stocks\\DJCO.csv\n",
      "2025-06-06 23:02:40,994, data_manager.py, 101, INFO, Saving data by year\n",
      "2025-06-06 23:02:42,046, data_manager.py, 90, INFO, Processing file ../../05_src/data/prices_csv\\etfs\\VETS.csv\n",
      "2025-06-06 23:02:42,046, data_manager.py, 118, INFO, Reading file: ../../05_src/data/prices_csv\\etfs\\VETS.csv\n",
      "2025-06-06 23:02:42,046, data_manager.py, 101, INFO, Saving data by year\n",
      "2025-06-06 23:02:42,146, data_manager.py, 90, INFO, Processing file ../../05_src/data/prices_csv\\stocks\\GUT.csv\n",
      "2025-06-06 23:02:42,147, data_manager.py, 118, INFO, Reading file: ../../05_src/data/prices_csv\\stocks\\GUT.csv\n",
      "2025-06-06 23:02:42,167, data_manager.py, 101, INFO, Saving data by year\n",
      "2025-06-06 23:02:42,844, data_manager.py, 90, INFO, Processing file ../../05_src/data/prices_csv\\etfs\\KWEB.csv\n",
      "2025-06-06 23:02:42,844, data_manager.py, 118, INFO, Reading file: ../../05_src/data/prices_csv\\etfs\\KWEB.csv\n",
      "2025-06-06 23:02:42,860, data_manager.py, 101, INFO, Saving data by year\n",
      "2025-06-06 23:02:43,097, data_manager.py, 90, INFO, Processing file ../../05_src/data/prices_csv\\stocks\\ADAP.csv\n",
      "2025-06-06 23:02:43,097, data_manager.py, 118, INFO, Reading file: ../../05_src/data/prices_csv\\stocks\\ADAP.csv\n",
      "2025-06-06 23:02:43,118, data_manager.py, 101, INFO, Saving data by year\n",
      "2025-06-06 23:02:43,297, data_manager.py, 90, INFO, Processing file ../../05_src/data/prices_csv\\etfs\\HDEF.csv\n",
      "2025-06-06 23:02:43,297, data_manager.py, 118, INFO, Reading file: ../../05_src/data/prices_csv\\etfs\\HDEF.csv\n",
      "2025-06-06 23:02:43,314, data_manager.py, 101, INFO, Saving data by year\n",
      "2025-06-06 23:02:43,514, data_manager.py, 90, INFO, Processing file ../../05_src/data/prices_csv\\stocks\\PFHD.csv\n",
      "2025-06-06 23:02:43,514, data_manager.py, 118, INFO, Reading file: ../../05_src/data/prices_csv\\stocks\\PFHD.csv\n",
      "2025-06-06 23:02:43,519, data_manager.py, 101, INFO, Saving data by year\n",
      "2025-06-06 23:02:43,647, data_manager.py, 90, INFO, Processing file ../../05_src/data/prices_csv\\etfs\\BICK.csv\n",
      "2025-06-06 23:02:43,647, data_manager.py, 118, INFO, Reading file: ../../05_src/data/prices_csv\\etfs\\BICK.csv\n",
      "2025-06-06 23:02:43,668, data_manager.py, 101, INFO, Saving data by year\n",
      "2025-06-06 23:02:44,002, data_manager.py, 90, INFO, Processing file ../../05_src/data/prices_csv\\stocks\\OVV.csv\n",
      "2025-06-06 23:02:44,002, data_manager.py, 118, INFO, Reading file: ../../05_src/data/prices_csv\\stocks\\OVV.csv\n",
      "2025-06-06 23:02:44,031, data_manager.py, 101, INFO, Saving data by year\n",
      "2025-06-06 23:02:44,556, data_manager.py, 90, INFO, Processing file ../../05_src/data/prices_csv\\stocks\\JIH.csv\n",
      "2025-06-06 23:02:44,556, data_manager.py, 118, INFO, Reading file: ../../05_src/data/prices_csv\\stocks\\JIH.csv\n",
      "2025-06-06 23:02:44,571, data_manager.py, 101, INFO, Saving data by year\n",
      "2025-06-06 23:02:44,637, data_manager.py, 90, INFO, Processing file ../../05_src/data/prices_csv\\etfs\\TLEH.csv\n",
      "2025-06-06 23:02:44,637, data_manager.py, 118, INFO, Reading file: ../../05_src/data/prices_csv\\etfs\\TLEH.csv\n",
      "2025-06-06 23:02:44,661, data_manager.py, 101, INFO, Saving data by year\n"
     ]
    }
   ],
   "source": [
    "dm.process_sample_files()"
   ]
  },
  {
   "cell_type": "markdown",
   "metadata": {},
   "source": [
    "Finally, add features to the data set and save to a *feature store*."
   ]
  },
  {
   "cell_type": "code",
   "execution_count": 50,
   "metadata": {},
   "outputs": [
    {
     "name": "stderr",
     "output_type": "stream",
     "text": [
      "2025-06-06 23:02:44,881, data_manager.py, 131, INFO, Creating features data.\n",
      "2025-06-06 23:02:44,881, data_manager.py, 141, INFO, Loading price data from ../../05_src/data/prices/\n",
      "2025-06-06 23:02:45,779, data_manager.py, 150, INFO, Creating features\n",
      "c:\\Users\\laksh\\DSI_repository\\production\\01_materials\\labs\\../../05_src\\stock_prices\\data_manager.py:153: UserWarning: `meta` is not specified, inferred from partial data. Please provide `meta` if the result is unexpected.\n",
      "  Before: .apply(func)\n",
      "  After:  .apply(func, meta={'x': 'f8', 'y': 'f8'}) for dataframe result\n",
      "  or:     .apply(func, meta=('x', 'f8'))            for series result\n",
      "  features = (price_dd.groupby('ticker', group_keys=False)\n",
      "2025-06-06 23:02:45,788, data_manager.py, 175, INFO, Saving features to ../../05_src/data/features/stock_features\n"
     ]
    }
   ],
   "source": [
    "dm.featurize()"
   ]
  }
 ],
 "metadata": {
  "kernelspec": {
   "display_name": "dsi_participant",
   "language": "python",
   "name": "python3"
  },
  "language_info": {
   "codemirror_mode": {
    "name": "ipython",
    "version": 3
   },
   "file_extension": ".py",
   "mimetype": "text/x-python",
   "name": "python",
   "nbconvert_exporter": "python",
   "pygments_lexer": "ipython3",
   "version": "3.9.15"
  }
 },
 "nbformat": 4,
 "nbformat_minor": 2
}
